{
 "cells": [
  {
   "cell_type": "code",
   "execution_count": 1,
   "id": "b3bd2f7b",
   "metadata": {},
   "outputs": [],
   "source": [
    "import numpy as np\n",
    "import pandas as pd"
   ]
  },
  {
   "cell_type": "code",
   "execution_count": 2,
   "id": "67fea024",
   "metadata": {},
   "outputs": [],
   "source": [
    "houses = pd.read_csv(r\"C:\\Users\\German\\Desktop\\houses.csv\")"
   ]
  },
  {
   "cell_type": "code",
   "execution_count": 14,
   "id": "6c5d3316",
   "metadata": {},
   "outputs": [
    {
     "data": {
      "text/html": [
       "<div>\n",
       "<style scoped>\n",
       "    .dataframe tbody tr th:only-of-type {\n",
       "        vertical-align: middle;\n",
       "    }\n",
       "\n",
       "    .dataframe tbody tr th {\n",
       "        vertical-align: top;\n",
       "    }\n",
       "\n",
       "    .dataframe thead th {\n",
       "        text-align: right;\n",
       "    }\n",
       "</style>\n",
       "<table border=\"1\" class=\"dataframe\">\n",
       "  <thead>\n",
       "    <tr style=\"text-align: right;\">\n",
       "      <th></th>\n",
       "      <th>dim_1</th>\n",
       "      <th>dim_2</th>\n",
       "      <th>level</th>\n",
       "      <th>price</th>\n",
       "    </tr>\n",
       "  </thead>\n",
       "  <tbody>\n",
       "    <tr>\n",
       "      <th>0</th>\n",
       "      <td>29</td>\n",
       "      <td>28</td>\n",
       "      <td>luxury</td>\n",
       "      <td>2212.0</td>\n",
       "    </tr>\n",
       "    <tr>\n",
       "      <th>1</th>\n",
       "      <td>28</td>\n",
       "      <td>29</td>\n",
       "      <td>luxury</td>\n",
       "      <td>2203.0</td>\n",
       "    </tr>\n",
       "    <tr>\n",
       "      <th>2</th>\n",
       "      <td>6</td>\n",
       "      <td>9</td>\n",
       "      <td>basic</td>\n",
       "      <td>254.0</td>\n",
       "    </tr>\n",
       "    <tr>\n",
       "      <th>3</th>\n",
       "      <td>5</td>\n",
       "      <td>9</td>\n",
       "      <td>basic</td>\n",
       "      <td>242.0</td>\n",
       "    </tr>\n",
       "    <tr>\n",
       "      <th>4</th>\n",
       "      <td>6</td>\n",
       "      <td>6</td>\n",
       "      <td>basic</td>\n",
       "      <td>195.0</td>\n",
       "    </tr>\n",
       "    <tr>\n",
       "      <th>5</th>\n",
       "      <td>5</td>\n",
       "      <td>8</td>\n",
       "      <td>basic</td>\n",
       "      <td>200.0</td>\n",
       "    </tr>\n",
       "    <tr>\n",
       "      <th>6</th>\n",
       "      <td>27</td>\n",
       "      <td>29</td>\n",
       "      <td>luxury</td>\n",
       "      <td>2108.0</td>\n",
       "    </tr>\n",
       "    <tr>\n",
       "      <th>7</th>\n",
       "      <td>23</td>\n",
       "      <td>14</td>\n",
       "      <td>medium</td>\n",
       "      <td>998.0</td>\n",
       "    </tr>\n",
       "    <tr>\n",
       "      <th>8</th>\n",
       "      <td>9</td>\n",
       "      <td>5</td>\n",
       "      <td>basic</td>\n",
       "      <td>225.0</td>\n",
       "    </tr>\n",
       "    <tr>\n",
       "      <th>9</th>\n",
       "      <td>29</td>\n",
       "      <td>26</td>\n",
       "      <td>luxury</td>\n",
       "      <td>2052.0</td>\n",
       "    </tr>\n",
       "    <tr>\n",
       "      <th>10</th>\n",
       "      <td>29</td>\n",
       "      <td>26</td>\n",
       "      <td>luxury</td>\n",
       "      <td>2042.0</td>\n",
       "    </tr>\n",
       "    <tr>\n",
       "      <th>11</th>\n",
       "      <td>29</td>\n",
       "      <td>29</td>\n",
       "      <td>luxury</td>\n",
       "      <td>2285.0</td>\n",
       "    </tr>\n",
       "    <tr>\n",
       "      <th>12</th>\n",
       "      <td>5</td>\n",
       "      <td>7</td>\n",
       "      <td>basic</td>\n",
       "      <td>170.0</td>\n",
       "    </tr>\n",
       "    <tr>\n",
       "      <th>13</th>\n",
       "      <td>21</td>\n",
       "      <td>11</td>\n",
       "      <td>medium</td>\n",
       "      <td>793.0</td>\n",
       "    </tr>\n",
       "    <tr>\n",
       "      <th>14</th>\n",
       "      <td>29</td>\n",
       "      <td>27</td>\n",
       "      <td>luxury</td>\n",
       "      <td>2130.0</td>\n",
       "    </tr>\n",
       "    <tr>\n",
       "      <th>15</th>\n",
       "      <td>8</td>\n",
       "      <td>9</td>\n",
       "      <td>basic</td>\n",
       "      <td>337.0</td>\n",
       "    </tr>\n",
       "    <tr>\n",
       "      <th>16</th>\n",
       "      <td>27</td>\n",
       "      <td>27</td>\n",
       "      <td>luxury</td>\n",
       "      <td>1981.0</td>\n",
       "    </tr>\n",
       "  </tbody>\n",
       "</table>\n",
       "</div>"
      ],
      "text/plain": [
       "    dim_1  dim_2   level   price\n",
       "0      29     28  luxury  2212.0\n",
       "1      28     29  luxury  2203.0\n",
       "2       6      9   basic   254.0\n",
       "3       5      9   basic   242.0\n",
       "4       6      6   basic   195.0\n",
       "5       5      8   basic   200.0\n",
       "6      27     29  luxury  2108.0\n",
       "7      23     14  medium   998.0\n",
       "8       9      5   basic   225.0\n",
       "9      29     26  luxury  2052.0\n",
       "10     29     26  luxury  2042.0\n",
       "11     29     29  luxury  2285.0\n",
       "12      5      7   basic   170.0\n",
       "13     21     11  medium   793.0\n",
       "14     29     27  luxury  2130.0\n",
       "15      8      9   basic   337.0\n",
       "16     27     27  luxury  1981.0"
      ]
     },
     "execution_count": 14,
     "metadata": {},
     "output_type": "execute_result"
    }
   ],
   "source": [
    "houses.head(17)"
   ]
  },
  {
   "cell_type": "code",
   "execution_count": 10,
   "id": "27d769cb",
   "metadata": {},
   "outputs": [],
   "source": [
    "from sklearn.tree import DecisionTreeClassifier\n",
    "from sklearn.tree import export_text\n",
    "from sklearn import tree"
   ]
  },
  {
   "cell_type": "code",
   "execution_count": 12,
   "id": "bea6cf15",
   "metadata": {},
   "outputs": [],
   "source": [
    "X = houses[[\"dim_1\",\"dim_2\"]]\n",
    "y = houses[\"level\"]\n",
    "cl = tree.DecisionTreeClassifier()\n",
    "cl = cl.fit(X, y)"
   ]
  },
  {
   "cell_type": "code",
   "execution_count": 13,
   "id": "25700188",
   "metadata": {},
   "outputs": [
    {
     "name": "stdout",
     "output_type": "stream",
     "text": [
      "|--- feature_1 <= 10.00\n",
      "|   |--- class: basic\n",
      "|--- feature_1 >  10.00\n",
      "|   |--- feature_1 <= 25.00\n",
      "|   |   |--- class: medium\n",
      "|   |--- feature_1 >  25.00\n",
      "|   |   |--- class: luxury\n",
      "\n"
     ]
    }
   ],
   "source": [
    "print(export_text(cl))\n",
    "#если фича меньше или равно 10 то класс basic, если нет, то если фича больше 10 и так далее "
   ]
  },
  {
   "cell_type": "code",
   "execution_count": 15,
   "id": "30191a2e",
   "metadata": {},
   "outputs": [
    {
     "data": {
      "text/plain": [
       "('luxury', 'luxury')"
      ]
     },
     "execution_count": 15,
     "metadata": {},
     "output_type": "execute_result"
    }
   ],
   "source": [
    "cl.predict(X[0:1])[0], y[0]"
   ]
  },
  {
   "cell_type": "code",
   "execution_count": 16,
   "id": "d4f76610",
   "metadata": {},
   "outputs": [
    {
     "data": {
      "text/plain": [
       "('medium', 'medium')"
      ]
     },
     "execution_count": 16,
     "metadata": {},
     "output_type": "execute_result"
    }
   ],
   "source": [
    "cl.predict(X[7:8])[0], y[7]"
   ]
  },
  {
   "cell_type": "code",
   "execution_count": null,
   "id": "72ffbde2",
   "metadata": {},
   "outputs": [],
   "source": []
  }
 ],
 "metadata": {
  "kernelspec": {
   "display_name": "Python 3 (ipykernel)",
   "language": "python",
   "name": "python3"
  },
  "language_info": {
   "codemirror_mode": {
    "name": "ipython",
    "version": 3
   },
   "file_extension": ".py",
   "mimetype": "text/x-python",
   "name": "python",
   "nbconvert_exporter": "python",
   "pygments_lexer": "ipython3",
   "version": "3.8.7"
  }
 },
 "nbformat": 4,
 "nbformat_minor": 5
}
